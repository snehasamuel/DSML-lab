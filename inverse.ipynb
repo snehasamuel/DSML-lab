{
  "nbformat": 4,
  "nbformat_minor": 0,
  "metadata": {
    "colab": {
      "name": "Untitled2.ipynb",
      "provenance": [],
      "authorship_tag": "ABX9TyNDfWQgmP2j5AtTdz48uBXB",
      "include_colab_link": true
    },
    "kernelspec": {
      "name": "python3",
      "display_name": "Python 3"
    },
    "language_info": {
      "name": "python"
    }
  },
  "cells": [
    {
      "cell_type": "markdown",
      "metadata": {
        "id": "view-in-github",
        "colab_type": "text"
      },
      "source": [
        "<a href=\"https://colab.research.google.com/github/snehasamuel/DSML-lab/blob/main/inverse.ipynb\" target=\"_parent\"><img src=\"https://colab.research.google.com/assets/colab-badge.svg\" alt=\"Open In Colab\"/></a>"
      ]
    },
    {
      "cell_type": "code",
      "execution_count": 7,
      "metadata": {
        "colab": {
          "base_uri": "https://localhost:8080/"
        },
        "id": "tSbicA7BhQ4H",
        "outputId": "736e0d67-e79c-4d2c-8986-bfc4464cc21e"
      },
      "outputs": [
        {
          "output_type": "stream",
          "name": "stdout",
          "text": [
            "\n",
            "ARRAY 1 Elements : \n",
            "1 2 3  4\n",
            "\n",
            "ARRAY 1 ,  ROW COLUMN : \n",
            "2 2\n",
            "\n",
            "ARRAY 1\n",
            "[[1 2]\n",
            " [3 4]]\n",
            "\n",
            "Inverse : \n",
            "[[-2.   1. ]\n",
            " [ 1.5 -0.5]]\n"
          ]
        }
      ],
      "source": [
        "import numpy as np \n",
        "def create_matrix(mc):\n",
        "    print(\"\\nARRAY \"+str(mc)+\" Elements : \")\n",
        "    array_1 = map(int, input().split())\n",
        "    array_1 = np.array(list(array_1))\n",
        "    #print(arr)\n",
        "    print(\"\\nARRAY \"+str(mc)+\" ,  ROW COLUMN : \")\n",
        "    row,column=map(int,input().split())\n",
        "    if(len(array_1)!=(row*column)):\n",
        "        print(\"\\nRow and Column size not match with total elements !! retry\")\n",
        "        return create_matrix(mc)\n",
        "    array_1 =array_1.reshape(row,column)\n",
        "    print(\"\\nARRAY \"+str(mc))\n",
        "    print(array_1)\n",
        "    print(\"\\nInverse : \")\n",
        "    return array_1\n",
        "\n",
        "print(np.linalg.inv(create_matrix(1)))"
      ]
    }
  ]
}