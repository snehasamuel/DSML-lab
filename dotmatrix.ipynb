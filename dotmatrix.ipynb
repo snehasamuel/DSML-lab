{
  "nbformat": 4,
  "nbformat_minor": 0,
  "metadata": {
    "colab": {
      "name": "Untitled0.ipynb",
      "provenance": [],
      "authorship_tag": "ABX9TyMnqA3T8JPL2MKmQpY6DlNL"
    },
    "kernelspec": {
      "name": "python3",
      "display_name": "Python 3"
    },
    "language_info": {
      "name": "python"
    }
  },
  "cells": [
    {
      "cell_type": "code",
      "execution_count": null,
      "metadata": {
        "colab": {
          "base_uri": "https://localhost:8080/"
        },
        "id": "onmCDf4WCZlZ",
        "outputId": "e0765e42-d403-47b8-930e-2cfa0ac587c8"
      },
      "outputs": [
        {
          "output_type": "stream",
          "name": "stdout",
          "text": [
            "\n",
            "ARRAY 1 Elements : \n",
            "1 2 8\n",
            "\n",
            "ARRAY 1 ,  ROW COLUMN : \n",
            "2  3\n",
            "\n",
            "Row and Column size not match with total elements !! retry\n",
            "\n",
            "ARRAY 1 Elements : \n",
            "1 3 4 5 9 7\n",
            "\n",
            "ARRAY 1 ,  ROW COLUMN : \n",
            "2 3\n",
            "\n",
            "ARRAY 1\n",
            "[[1 3 4]\n",
            " [5 9 7]]\n",
            "\n",
            "ARRAY 2 Elements : \n"
          ]
        }
      ],
      "source": [
        "import numpy as np \n",
        "def create_matrix(mc):\n",
        "    print(\"\\nARRAY \"+str(mc)+\" Elements : \")\n",
        "    array_1 = map(int, input().split())\n",
        "    array_1 = np.array(list(array_1))\n",
        "    #print(arr)\n",
        "    print(\"\\nARRAY \"+str(mc)+\" ,  ROW COLUMN : \")\n",
        "    row,column = map(int, input().split())\n",
        "    if(len(array_1)!= (row*column)):\n",
        "        print(\"\\nRow and Column size not match with total elements !! retry\")\n",
        "        return create_matrix(mc)\n",
        "    array_1 = array_1.reshape(row,column)\n",
        "    print(\"\\nARRAY \"+str(mc))\n",
        "    print(array_1)\n",
        "    return array_1\n",
        "arr1 = create_matrix(1)\n",
        "arr2 = create_matrix(2)\n",
        "if(arr1.shape == arr2.shape):\n",
        "    print(\"\\nDot product\")\n",
        "    print(np.dot(arr1,arr2))\n",
        "else:\n",
        "    print(\"\\nDimensions not matching!\")"
      ]
    },
    {
      "cell_type": "code",
      "source": [
        ""
      ],
      "metadata": {
        "id": "G4XBi6_5NzjG"
      },
      "execution_count": null,
      "outputs": []
    },
    {
      "cell_type": "code",
      "source": [
        ""
      ],
      "metadata": {
        "id": "EWefkYe6NQmA"
      },
      "execution_count": null,
      "outputs": []
    },
    {
      "cell_type": "code",
      "source": [
        ""
      ],
      "metadata": {
        "id": "Cm6q8TfrNcVU"
      },
      "execution_count": null,
      "outputs": []
    }
  ]
}