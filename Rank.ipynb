{
  "nbformat": 4,
  "nbformat_minor": 0,
  "metadata": {
    "colab": {
      "name": "Untitled1.ipynb",
      "provenance": [],
      "authorship_tag": "ABX9TyO0MkbVJD2Z5YpY69TlFFhc",
      "include_colab_link": true
    },
    "kernelspec": {
      "name": "python3",
      "display_name": "Python 3"
    },
    "language_info": {
      "name": "python"
    }
  },
  "cells": [
    {
      "cell_type": "markdown",
      "metadata": {
        "id": "view-in-github",
        "colab_type": "text"
      },
      "source": [
        "<a href=\"https://colab.research.google.com/github/snehasamuel/DSML-lab/blob/main/Rank.ipynb\" target=\"_parent\"><img src=\"https://colab.research.google.com/assets/colab-badge.svg\" alt=\"Open In Colab\"/></a>"
      ]
    },
    {
      "cell_type": "code",
      "execution_count": 4,
      "metadata": {
        "colab": {
          "base_uri": "https://localhost:8080/"
        },
        "id": "2dw_z-LnVlJU",
        "outputId": "bc693fd5-4865-4457-d892-7a6c45515b7e"
      },
      "outputs": [
        {
          "output_type": "stream",
          "name": "stdout",
          "text": [
            "\n",
            "ARRAY 1 Elements:\n",
            "1 3 1 7\n",
            "\n",
            "ARRAY 1, ROW COLUMN:\n",
            "2 2\n",
            "\n",
            "ARRAY 1\n",
            "[[1 3]\n",
            " [1 7]]\n",
            "\n",
            "Rank:\n",
            "2\n"
          ]
        }
      ],
      "source": [
        "import numpy as np \n",
        "def create_matrix(mc):\n",
        "    print(\"\\nARRAY \"+str(mc)+\" Elements:\")\n",
        "    array_1 = map(int, input().split())\n",
        "    array_1 = np.array(list(array_1))\n",
        "    #print(arr)\n",
        "    print(\"\\nARRAY \"+str(mc)+\", ROW COLUMN:\")\n",
        "    row,column = map(int, input().split())\n",
        "    if(len(array_1)!= (row*column)):\n",
        "        print(\"\\nRow and Column size not match with total elements !! retry\")\n",
        "        return create_matrix(mc)\n",
        "    array_1 = array_1.reshape(row,column)\n",
        "    print(\"\\nARRAY \"+str(mc))\n",
        "    print(array_1)\n",
        "    print(\"\\nRank:\")\n",
        "    return array_1\n",
        "print(np.linalg.matrix_rank(create_matrix(1)))\n"
      ]
    }
  ]
}