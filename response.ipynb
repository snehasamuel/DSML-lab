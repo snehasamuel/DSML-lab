{
  "nbformat": 4,
  "nbformat_minor": 0,
  "metadata": {
    "colab": {
      "name": "Untitled1.ipynb",
      "provenance": [],
      "authorship_tag": "ABX9TyOXVEW9/Mx5vuYLG6cfGhhh",
      "include_colab_link": true
    },
    "kernelspec": {
      "name": "python3",
      "display_name": "Python 3"
    },
    "language_info": {
      "name": "python"
    }
  },
  "cells": [
    {
      "cell_type": "markdown",
      "metadata": {
        "id": "view-in-github",
        "colab_type": "text"
      },
      "source": [
        "<a href=\"https://colab.research.google.com/github/snehasamuel/DSML-lab/blob/main/response.ipynb\" target=\"_parent\"><img src=\"https://colab.research.google.com/assets/colab-badge.svg\" alt=\"Open In Colab\"/></a>"
      ]
    },
    {
      "cell_type": "code",
      "metadata": {
        "id": "bUqwCgMwMp-Q"
      },
      "source": [
        "l1=['good','fine','nice','happy','positive']\n",
        "l2=['bad','sad','tired','frustrated','not','negative']\n",
        "str1=input('Enter your response')\n",
        "flag=0\n",
        "ncount=0\n",
        "t=str1.split()\n",
        "for i in range(len(t)):\n",
        "    for j in range(len(l1)):\n",
        "         if t[i]==l1[j]:\n",
        "             flag=1\n",
        "    for k in range(len(l2)):\n",
        "         if t[i]==l2[k]:    \n",
        "            flag=1\n",
        "            ncount+=1\n",
        "if flag==0:\n",
        "    print('you are in another mood')\n",
        "elif ncount%2==0:\n",
        "    print('positive')\n",
        "else:\n",
        "    print('negative')    \n",
        "    "
      ],
      "execution_count": null,
      "outputs": []
    }
  ]
}