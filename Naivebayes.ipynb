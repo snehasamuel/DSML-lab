{
  "nbformat": 4,
  "nbformat_minor": 0,
  "metadata": {
    "colab": {
      "name": "Untitled2.ipynb",
      "provenance": [],
      "authorship_tag": "ABX9TyNCjw1w9jhEc0yIoN+ZmzLj",
      "include_colab_link": true
    },
    "kernelspec": {
      "name": "python3",
      "display_name": "Python 3"
    },
    "language_info": {
      "name": "python"
    }
  },
  "cells": [
    {
      "cell_type": "markdown",
      "metadata": {
        "id": "view-in-github",
        "colab_type": "text"
      },
      "source": [
        "<a href=\"https://colab.research.google.com/github/snehasamuel/DSML-lab/blob/main/Naivebayes.ipynb\" target=\"_parent\"><img src=\"https://colab.research.google.com/assets/colab-badge.svg\" alt=\"Open In Colab\"/></a>"
      ]
    },
    {
      "cell_type": "code",
      "execution_count": 1,
      "metadata": {
        "colab": {
          "base_uri": "https://localhost:8080/"
        },
        "id": "tSbicA7BhQ4H",
        "outputId": "5a3d0960-e3e9-48eb-ac12-fc8f577e0501"
      },
      "outputs": [
        {
          "output_type": "stream",
          "name": "stdout",
          "text": [
            "[2 2 0 1 1 1 0 2 2 1 2 0 0 1]\n",
            "Temp: [1 1 1 2 0 0 0 2 0 2 0 2 2 2 1 2]\n",
            "Play: [0 0 1 1 1 0 1 0 1 1 1 1 1 0]\n",
            "[(2, 1), (2, 1), (0, 1), (1, 2), (1, 0), (1, 0), (0, 0), (2, 2), (2, 0), (1, 2), (2, 0), (0, 2), (0, 2), (1, 2)]\n",
            " sunny-2 overcast-1 rainy-0\n",
            "hot-1 mild-2 cool-0\n",
            "enter weather1\n",
            "enter temp2\n",
            "predicted value: [1]\n",
            "There will be a play today\n",
            "[2 2 0 1 1 1 0 2 2 1 2 0 0 1]\n",
            "Temp: [1 1 1 2 0 0 0 2 0 2 0 2 2 2 1 2]\n",
            "Play: [0 0 1 1 1 0 1 0 1 1 1 1 1 0]\n",
            "[(2, 1), (2, 1), (0, 1), (1, 2), (1, 0), (1, 0), (0, 0), (2, 2), (2, 0), (1, 2), (2, 0), (0, 2), (0, 2), (1, 2)]\n",
            " sunny-2 overcast-1 rainy-0\n",
            "hot-1 mild-2 cool-0\n",
            "[2 2 0 1 1 1 0 2 2 1 2 0 0 1]\n",
            "Temp: [1 1 1 2 0 0 0 2 0 2 0 2 2 2 1 2]\n",
            "Play: [0 0 1 1 1 0 1 0 1 1 1 1 1 0]\n",
            "[(2, 1), (2, 1), (0, 1), (1, 2), (1, 0), (1, 0), (0, 0), (2, 2), (2, 0), (1, 2), (2, 0), (0, 2), (0, 2), (1, 2)]\n",
            " sunny-2 overcast-1 rainy-0\n",
            "hot-1 mild-2 cool-0\n",
            "enter weather1\n",
            "enter temp2\n",
            "predicted value: [1]\n",
            "There will be a play today\n",
            "enter weather1\n",
            "enter temp2\n",
            "predicted value: [1]\n",
            "There will be a play today\n"
          ]
        }
      ],
      "source": [
        "weather=['sunny','sunny','overcast','rainy','rainy','rainy','overcast','sunny','sunny','rainy','sunny','overcast','overcast','rainy']\n",
        "temp=['hot','hot','hot','mild','cool','cool','cool','mild','cool','mild','cool','mild','mild','mild','hot','mild']\n",
        "play=['no','no','yes','yes','yes','no','yes','no','yes','yes','yes','yes','yes','no']\n",
        "from sklearn import preprocessing\n",
        "le=preprocessing.LabelEncoder()\n",
        "weather_encoded=le.fit_transform(weather)\n",
        "print(weather_encoded)\n",
        "temp_encoded=le.fit_transform(temp)\n",
        "label=le.fit_transform (play)\n",
        "print(\"Temp:\",temp_encoded)\n",
        "print(\"Play:\",label)\n",
        "features=list(zip(weather_encoded,temp_encoded))\n",
        "print(features)\n",
        "from sklearn.naive_bayes import GaussianNB\n",
        "model=GaussianNB()\n",
        "model.fit(features,label)\n",
        "print(\" sunny-2 overcast-1 rainy-0\")\n",
        "print(\"hot-1 mild-2 cool-0\")\n",
        "a=int(input(\"enter weather\"))\n",
        "b=int(input(\"enter temp\"))\n",
        "predicted=model.predict([[a,b]])\n",
        "print(\"predicted value:\",predicted)\n",
        "if predicted==1:\n",
        " print(\"There will be a play today\")\n",
        "else:\n",
        " print(\"There will be no play today\")\n",
        "weather=['sunny','sunny','overcast','rainy','rainy','rainy','overcast','sunny','sunny','rainy','sunny','overcast','overcast','rainy']\n",
        "temp=['hot','hot','hot','mild','cool','cool','cool','mild','cool','mild','cool','mild','mild','mild','hot','mild']\n",
        "play=['no','no','yes','yes','yes','no','yes','no','yes','yes','yes','yes','yes','no']\n",
        "from sklearn import preprocessing\n",
        "le=preprocessing.LabelEncoder()\n",
        "weather_encoded=le.fit_transform(weather)\n",
        "print(weather_encoded)\n",
        "temp_encoded=le.fit_transform(temp)\n",
        "label=le.fit_transform (play)\n",
        "print(\"Temp:\",temp_encoded)\n",
        "print(\"Play:\",label)\n",
        "features=list(zip(weather_encoded,temp_encoded))\n",
        "print(features)\n",
        "from sklearn.naive_bayes import GaussianNB\n",
        "model=GaussianNB()\n",
        "model.fit(features,label)\n",
        "print(\" sunny-2 overcast-1 rainy-0\")\n",
        "print(\"hot-1 mild-2 cool-0\")\n",
        "weather=['sunny','sunny','overcast','rainy','rainy','rainy','overcast','sunny','sunny','rainy','sunny','overcast','overcast','rainy']\n",
        "temp=['hot','hot','hot','mild','cool','cool','cool','mild','cool','mild','cool','mild','mild','mild','hot','mild']\n",
        "play=['no','no','yes','yes','yes','no','yes','no','yes','yes','yes','yes','yes','no']\n",
        "from sklearn import preprocessing\n",
        "le=preprocessing.LabelEncoder()\n",
        "weather_encoded=le.fit_transform(weather)\n",
        "print(weather_encoded)\n",
        "temp_encoded=le.fit_transform(temp)\n",
        "label=le.fit_transform (play)\n",
        "print(\"Temp:\",temp_encoded)\n",
        "print(\"Play:\",label)\n",
        "features=list(zip(weather_encoded,temp_encoded))\n",
        "print(features)\n",
        "from sklearn.naive_bayes import GaussianNB\n",
        "model=GaussianNB()\n",
        "model.fit(features,label)\n",
        "print(\" sunny-2 overcast-1 rainy-0\")\n",
        "print(\"hot-1 mild-2 cool-0\")\n",
        "a=int(input(\"enter weather\"))\n",
        "b=int(input(\"enter temp\"))\n",
        "predicted=model.predict([[a,b]])\n",
        "print(\"predicted value:\",predicted)\n",
        "if predicted==1:\n",
        " print(\"There will be a play today\")\n",
        "else:\n",
        " print(\"There will be no play today\")\n",
        "a=int(input(\"enter weather\"))\n",
        "b=int(input(\"enter temp\"))\n",
        "predicted=model.predict([[a,b]])\n",
        "print(\"predicted value:\",predicted)\n",
        "if predicted==1:\n",
        " print(\"There will be a play today\")\n",
        "else:\n",
        " print(\"There will be no play today\")\n",
        "\n"
      ]
    },
    {
      "cell_type": "markdown",
      "source": [
        ""
      ],
      "metadata": {
        "id": "3X40KxuN30jC"
      }
    },
    {
      "cell_type": "code",
      "source": [
        ""
      ],
      "metadata": {
        "id": "BYnD0QrHn3B1"
      },
      "execution_count": null,
      "outputs": []
    }
  ]
}