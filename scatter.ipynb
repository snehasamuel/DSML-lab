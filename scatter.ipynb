{
  "nbformat": 4,
  "nbformat_minor": 0,
  "metadata": {
    "colab": {
      "name": "Untitled5.ipynb",
      "provenance": [],
      "authorship_tag": "ABX9TyPeDteFjhwk1gnkLbagq++j",
      "include_colab_link": true
    },
    "kernelspec": {
      "name": "python3",
      "display_name": "Python 3"
    },
    "language_info": {
      "name": "python"
    }
  },
  "cells": [
    {
      "cell_type": "markdown",
      "metadata": {
        "id": "view-in-github",
        "colab_type": "text"
      },
      "source": [
        "<a href=\"https://colab.research.google.com/github/snehasamuel/DSML-lab/blob/main/scatter.ipynb\" target=\"_parent\"><img src=\"https://colab.research.google.com/assets/colab-badge.svg\" alt=\"Open In Colab\"/></a>"
      ]
    },
    {
      "cell_type": "code",
      "execution_count": 36,
      "metadata": {
        "colab": {
          "base_uri": "https://localhost:8080/",
          "height": 304
        },
        "id": "4-H5XBpZnYme",
        "outputId": "08926d83-35b2-4753-e51d-1792c1960e87"
      },
      "outputs": [
        {
          "output_type": "stream",
          "name": "stdout",
          "text": [
            "[[ 1.         -0.13567318]\n",
            " [-0.13567318  1.        ]]\n"
          ]
        },
        {
          "output_type": "display_data",
          "data": {
            "image/png": "[encoded data removed]",
            "text/plain": [
              "<Figure size 432x288 with 1 Axes>"
            ]
          },
          "metadata": {
            "needs_background": "light"
          }
        }
      ],
      "source": [
        "import pandas as pandas\n",
        "import numpy as np\n",
        "import matplotlib.pyplot as plt\n",
        "x=[1,2,3,4,5,6,7,8,9,10]\n",
        "y=[2,3,5,6,8,9,-11,7,4,1]\n",
        "plt.scatter(x,y,c='r',s=60)\n",
        "rel=np.corrcoef(x,y)\n",
        "print(rel)\n",
        "\n"
      ]
    }
  ]
}